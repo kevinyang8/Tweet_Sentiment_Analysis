{
 "cells": [
  {
   "cell_type": "code",
   "execution_count": 78,
   "metadata": {},
   "outputs": [],
   "source": [
    "import pandas as pd\n",
    "import matplotlib.pyplot as plt\n",
    "%matplotlib inline\n",
    "from collections import Counter\n",
    "import nltk\n",
    "import preprocessor # preprocessing package for tweets\n",
    "import re\n",
    "import string\n",
    "from sklearn.feature_extraction.text import CountVectorizer, TfidfVectorizer\n",
    "from sklearn.linear_model import LogisticRegression\n",
    "from sklearn.model_selection import train_test_split\n",
    "import pickle\n",
    "from sklearn.metrics import confusion_matrix, classification_report"
   ]
  },
  {
   "cell_type": "code",
   "execution_count": 77,
   "metadata": {},
   "outputs": [
    {
     "data": {
      "text/html": [
       "<div>\n",
       "<style scoped>\n",
       "    .dataframe tbody tr th:only-of-type {\n",
       "        vertical-align: middle;\n",
       "    }\n",
       "\n",
       "    .dataframe tbody tr th {\n",
       "        vertical-align: top;\n",
       "    }\n",
       "\n",
       "    .dataframe thead th {\n",
       "        text-align: right;\n",
       "    }\n",
       "</style>\n",
       "<table border=\"1\" class=\"dataframe\">\n",
       "  <thead>\n",
       "    <tr style=\"text-align: right;\">\n",
       "      <th></th>\n",
       "      <th>label</th>\n",
       "      <th>text</th>\n",
       "    </tr>\n",
       "  </thead>\n",
       "  <tbody>\n",
       "    <tr>\n",
       "      <th>0</th>\n",
       "      <td>0</td>\n",
       "      <td>is so sad for my APL frie...</td>\n",
       "    </tr>\n",
       "    <tr>\n",
       "      <th>1</th>\n",
       "      <td>0</td>\n",
       "      <td>I missed the New Moon trail...</td>\n",
       "    </tr>\n",
       "    <tr>\n",
       "      <th>2</th>\n",
       "      <td>1</td>\n",
       "      <td>omg its already 7:30 :O</td>\n",
       "    </tr>\n",
       "    <tr>\n",
       "      <th>3</th>\n",
       "      <td>0</td>\n",
       "      <td>.. Omgaga. Im sooo  im gunna CRy. I'...</td>\n",
       "    </tr>\n",
       "    <tr>\n",
       "      <th>4</th>\n",
       "      <td>0</td>\n",
       "      <td>i think mi bf is cheating on me!!!   ...</td>\n",
       "    </tr>\n",
       "  </tbody>\n",
       "</table>\n",
       "</div>"
      ],
      "text/plain": [
       "   label                                               text\n",
       "0      0                       is so sad for my APL frie...\n",
       "1      0                     I missed the New Moon trail...\n",
       "2      1                            omg its already 7:30 :O\n",
       "3      0            .. Omgaga. Im sooo  im gunna CRy. I'...\n",
       "4      0           i think mi bf is cheating on me!!!   ..."
      ]
     },
     "execution_count": 77,
     "metadata": {},
     "output_type": "execute_result"
    }
   ],
   "source": [
    "# load the training data from train.csv\n",
    "# label of 0 means negative and label of 1 means positive\n",
    "train_data = pd.read_csv('train.csv', error_bad_lines=False, encoding='latin-1')\n",
    "train_data.columns=['id', 'label', 'text']\n",
    "train_data = train_data.drop('id', axis=1)\n",
    "train_data.head()"
   ]
  },
  {
   "cell_type": "code",
   "execution_count": 3,
   "metadata": {},
   "outputs": [
    {
     "name": "stdout",
     "output_type": "stream",
     "text": [
      "Negative sentences: 43532\n",
      "Positive sentences: 56457\n",
      "Total sentences: 99989\n"
     ]
    }
   ],
   "source": [
    "# data exporation\n",
    "# check the distribution of positive and negative sentences\n",
    "negative = sum(train_data['label'] == 0)\n",
    "positive = sum(train_data['label'] == 1)\n",
    "\n",
    "print('Negative sentences: {}'.format(negative))\n",
    "print('Positive sentences: {}'.format(positive))\n",
    "print('Total sentences: {}'.format(len(train_data)))"
   ]
  },
  {
   "cell_type": "code",
   "execution_count": 4,
   "metadata": {},
   "outputs": [
    {
     "data": {
      "text/html": [
       "<div>\n",
       "<style scoped>\n",
       "    .dataframe tbody tr th:only-of-type {\n",
       "        vertical-align: middle;\n",
       "    }\n",
       "\n",
       "    .dataframe tbody tr th {\n",
       "        vertical-align: top;\n",
       "    }\n",
       "\n",
       "    .dataframe thead th {\n",
       "        text-align: right;\n",
       "    }\n",
       "</style>\n",
       "<table border=\"1\" class=\"dataframe\">\n",
       "  <thead>\n",
       "    <tr style=\"text-align: right;\">\n",
       "      <th></th>\n",
       "      <th>label</th>\n",
       "      <th>text</th>\n",
       "      <th>text_length</th>\n",
       "    </tr>\n",
       "  </thead>\n",
       "  <tbody>\n",
       "    <tr>\n",
       "      <th>0</th>\n",
       "      <td>0</td>\n",
       "      <td>is so sad for my APL frie...</td>\n",
       "      <td>7</td>\n",
       "    </tr>\n",
       "    <tr>\n",
       "      <th>1</th>\n",
       "      <td>0</td>\n",
       "      <td>I missed the New Moon trail...</td>\n",
       "      <td>6</td>\n",
       "    </tr>\n",
       "    <tr>\n",
       "      <th>2</th>\n",
       "      <td>1</td>\n",
       "      <td>omg its already 7:30 :O</td>\n",
       "      <td>5</td>\n",
       "    </tr>\n",
       "    <tr>\n",
       "      <th>3</th>\n",
       "      <td>0</td>\n",
       "      <td>.. Omgaga. Im sooo  im gunna CRy. I'...</td>\n",
       "      <td>25</td>\n",
       "    </tr>\n",
       "    <tr>\n",
       "      <th>4</th>\n",
       "      <td>0</td>\n",
       "      <td>i think mi bf is cheating on me!!!   ...</td>\n",
       "      <td>9</td>\n",
       "    </tr>\n",
       "  </tbody>\n",
       "</table>\n",
       "</div>"
      ],
      "text/plain": [
       "   label                                               text  text_length\n",
       "0      0                       is so sad for my APL frie...            7\n",
       "1      0                     I missed the New Moon trail...            6\n",
       "2      1                            omg its already 7:30 :O            5\n",
       "3      0            .. Omgaga. Im sooo  im gunna CRy. I'...           25\n",
       "4      0           i think mi bf is cheating on me!!!   ...            9"
      ]
     },
     "execution_count": 4,
     "metadata": {},
     "output_type": "execute_result"
    }
   ],
   "source": [
    "# checking length of tweets\n",
    "def get_text_length(text):\n",
    "    return len(text.split())\n",
    "\n",
    "train_data['text_length'] = train_data['text'].apply(get_text_length)\n",
    "train_data.head()"
   ]
  },
  {
   "cell_type": "code",
   "execution_count": 5,
   "metadata": {},
   "outputs": [
    {
     "data": {
      "text/plain": [
       "<module 'matplotlib.pyplot' from '/Users/yangkevi/anaconda3/lib/python3.7/site-packages/matplotlib/pyplot.py'>"
      ]
     },
     "execution_count": 5,
     "metadata": {},
     "output_type": "execute_result"
    },
    {
     "data": {
      "image/png": "[encoded data removed]",
      "text/plain": [
       "<Figure size 720x360 with 1 Axes>"
      ]
     },
     "metadata": {
      "needs_background": "light"
     },
     "output_type": "display_data"
    }
   ],
   "source": [
    "# distribution of words \n",
    "plt.figure(figsize=(10, 5))\n",
    "plt.title('Text length frequency')\n",
    "plt.xlabel('text_length')\n",
    "plt.ylabel('frequency')\n",
    "plt.xlim(0, 40)\n",
    "plt.hist([train_data['text_length']], bins=200)\n",
    "plt\n",
    "# most tweets seem to be very short"
   ]
  },
  {
   "cell_type": "code",
   "execution_count": 6,
   "metadata": {},
   "outputs": [
    {
     "name": "stdout",
     "output_type": "stream",
     "text": [
      "Unique words: 165473\n",
      "Total words: 1330178\n"
     ]
    },
    {
     "data": {
      "text/plain": [
       "[('i', 48880),\n",
       " ('the', 29629),\n",
       " ('to', 29177),\n",
       " ('you', 23456),\n",
       " ('a', 21908),\n",
       " ('and', 15826),\n",
       " ('it', 14154),\n",
       " ('my', 13598),\n",
       " ('for', 12378),\n",
       " ('is', 11618),\n",
       " ('in', 11497),\n",
       " ('of', 10519),\n",
       " ('that', 10051),\n",
       " ('have', 9794),\n",
       " ('on', 9228),\n",
       " ('me', 8718),\n",
       " ('so', 8601),\n",
       " ('but', 8489),\n",
       " (\"i'm\", 8167),\n",
       " ('be', 7248),\n",
       " ('was', 7128),\n",
       " ('not', 6749),\n",
       " ('just', 6649),\n",
       " ('your', 6416),\n",
       " ('are', 5901)]"
      ]
     },
     "execution_count": 6,
     "metadata": {},
     "output_type": "execute_result"
    }
   ],
   "source": [
    "# get common words in the data set, these are most likely stop words that we want to remove\n",
    "# also get total number of unique words\n",
    "unique_words = set()\n",
    "all_words = []\n",
    "for tweet in train_data['text']:\n",
    "    words = tweet.split()\n",
    "    for word in words:\n",
    "        unique_words.add(word.lower())\n",
    "        all_words.append(word.lower())\n",
    "\n",
    "print('Unique words: {}'.format(len(unique_words)))\n",
    "print('Total words: {}'.format(len(all_words)))\n",
    "Counter(all_words).most_common(25)\n",
    "# these common words don't add much meaning to each text so we will filter some out (using nltk stop words)"
   ]
  },
  {
   "cell_type": "code",
   "execution_count": 7,
   "metadata": {},
   "outputs": [
    {
     "data": {
      "image/png": "[encoded data removed]",
      "text/plain": [
       "<Figure size 720x360 with 1 Axes>"
      ]
     },
     "metadata": {
      "needs_background": "light"
     },
     "output_type": "display_data"
    },
    {
     "data": {
      "text/plain": [
       "<module 'matplotlib.pyplot' from '/Users/yangkevi/anaconda3/lib/python3.7/site-packages/matplotlib/pyplot.py'>"
      ]
     },
     "execution_count": 7,
     "metadata": {},
     "output_type": "execute_result"
    }
   ],
   "source": [
    "# plot frequency of top 25 words\n",
    "plt.figure(figsize=(10,5))\n",
    "plt.title('Top 25 most common words')\n",
    "nltk.FreqDist(all_words).plot(25, cumulative=False)\n",
    "plt"
   ]
  },
  {
   "cell_type": "code",
   "execution_count": 10,
   "metadata": {},
   "outputs": [
    {
     "data": {
      "text/html": [
       "<div>\n",
       "<style scoped>\n",
       "    .dataframe tbody tr th:only-of-type {\n",
       "        vertical-align: middle;\n",
       "    }\n",
       "\n",
       "    .dataframe tbody tr th {\n",
       "        vertical-align: top;\n",
       "    }\n",
       "\n",
       "    .dataframe thead th {\n",
       "        text-align: right;\n",
       "    }\n",
       "</style>\n",
       "<table border=\"1\" class=\"dataframe\">\n",
       "  <thead>\n",
       "    <tr style=\"text-align: right;\">\n",
       "      <th></th>\n",
       "      <th>label</th>\n",
       "      <th>text</th>\n",
       "    </tr>\n",
       "  </thead>\n",
       "  <tbody>\n",
       "    <tr>\n",
       "      <th>0</th>\n",
       "      <td>0</td>\n",
       "      <td>[sad, apl, friend]</td>\n",
       "    </tr>\n",
       "    <tr>\n",
       "      <th>1</th>\n",
       "      <td>0</td>\n",
       "      <td>[miss, new, moon, trailer]</td>\n",
       "    </tr>\n",
       "    <tr>\n",
       "      <th>2</th>\n",
       "      <td>1</td>\n",
       "      <td>[omg, alreadi]</td>\n",
       "    </tr>\n",
       "    <tr>\n",
       "      <th>3</th>\n",
       "      <td>0</td>\n",
       "      <td>[omgaga, im, sooo, im, gunna, cri, dentist, si...</td>\n",
       "    </tr>\n",
       "    <tr>\n",
       "      <th>4</th>\n",
       "      <td>0</td>\n",
       "      <td>[think, mi, bf, cheat]</td>\n",
       "    </tr>\n",
       "  </tbody>\n",
       "</table>\n",
       "</div>"
      ],
      "text/plain": [
       "   label                                               text\n",
       "0      0                                 [sad, apl, friend]\n",
       "1      0                         [miss, new, moon, trailer]\n",
       "2      1                                     [omg, alreadi]\n",
       "3      0  [omgaga, im, sooo, im, gunna, cri, dentist, si...\n",
       "4      0                             [think, mi, bf, cheat]"
      ]
     },
     "execution_count": 10,
     "metadata": {},
     "output_type": "execute_result"
    }
   ],
   "source": [
    "# preprocess the tweet\n",
    "porter = nltk.stem.porter.PorterStemmer()\n",
    "def preprocess_tweet(tweet):\n",
    "    # Remove URL, Emoji, Hashtag, etc\n",
    "    tweet = preprocessor.clean(tweet)\n",
    "    tweet = tweet.lower()\n",
    "    # Remove whitespace\n",
    "    tweet = re.sub(r'\\s\\s+', ' ', tweet)\n",
    "    # Remove single space remaining at the front of the tweet.\n",
    "    tweet = tweet.lstrip(' ') \n",
    "    # Remove characters beyond Unicode\n",
    "    tweet = ''.join(c for c in tweet if c <= '\\uFFFF') \n",
    "    # Convert to tokens\n",
    "    tweet = nltk.tokenize.word_tokenize(tweet)\n",
    "    # Remove Non Alphabetic words\n",
    "    tweet = [word for word in tweet if word.isalpha()]\n",
    "    # Remove stop words\n",
    "    tweet = [word for word in tweet if word not in set(nltk.corpus.stopwords.words('english'))]\n",
    "    # Stemming words\n",
    "    tweet = [porter.stem(word) for word in tweet]\n",
    "    return tweet\n",
    "    \n",
    "\n",
    "train_data['text'] = train_data['text'].apply(preprocess_tweet)\n",
    "train_data = train_data.drop('text_length', axis=1)\n",
    "train_data.head()"
   ]
  },
  {
   "cell_type": "code",
   "execution_count": 11,
   "metadata": {},
   "outputs": [
    {
     "data": {
      "text/html": [
       "<div>\n",
       "<style scoped>\n",
       "    .dataframe tbody tr th:only-of-type {\n",
       "        vertical-align: middle;\n",
       "    }\n",
       "\n",
       "    .dataframe tbody tr th {\n",
       "        vertical-align: top;\n",
       "    }\n",
       "\n",
       "    .dataframe thead th {\n",
       "        text-align: right;\n",
       "    }\n",
       "</style>\n",
       "<table border=\"1\" class=\"dataframe\">\n",
       "  <thead>\n",
       "    <tr style=\"text-align: right;\">\n",
       "      <th></th>\n",
       "      <th>label</th>\n",
       "      <th>text</th>\n",
       "    </tr>\n",
       "  </thead>\n",
       "  <tbody>\n",
       "    <tr>\n",
       "      <th>0</th>\n",
       "      <td>0</td>\n",
       "      <td>[sad, apl, friend]</td>\n",
       "    </tr>\n",
       "    <tr>\n",
       "      <th>1</th>\n",
       "      <td>0</td>\n",
       "      <td>[miss, new, moon, trailer]</td>\n",
       "    </tr>\n",
       "    <tr>\n",
       "      <th>2</th>\n",
       "      <td>1</td>\n",
       "      <td>[omg, alreadi]</td>\n",
       "    </tr>\n",
       "    <tr>\n",
       "      <th>3</th>\n",
       "      <td>0</td>\n",
       "      <td>[omgaga, im, sooo, im, gunna, cri, dentist, si...</td>\n",
       "    </tr>\n",
       "    <tr>\n",
       "      <th>4</th>\n",
       "      <td>0</td>\n",
       "      <td>[think, mi, bf, cheat]</td>\n",
       "    </tr>\n",
       "  </tbody>\n",
       "</table>\n",
       "</div>"
      ],
      "text/plain": [
       "   label                                               text\n",
       "0      0                                 [sad, apl, friend]\n",
       "1      0                         [miss, new, moon, trailer]\n",
       "2      1                                     [omg, alreadi]\n",
       "3      0  [omgaga, im, sooo, im, gunna, cri, dentist, si...\n",
       "4      0                             [think, mi, bf, cheat]"
      ]
     },
     "execution_count": 11,
     "metadata": {},
     "output_type": "execute_result"
    }
   ],
   "source": [
    "# remove empty text entries\n",
    "train_data_filtered = train_data[train_data['text'].str.len() != 0]\n",
    "train_data_filtered.head()"
   ]
  },
  {
   "cell_type": "code",
   "execution_count": 12,
   "metadata": {},
   "outputs": [
    {
     "name": "stdout",
     "output_type": "stream",
     "text": [
      "Unique words: 37068\n",
      "Total words: 644903\n"
     ]
    },
    {
     "data": {
      "text/plain": [
       "[('quot', 8569),\n",
       " ('get', 6567),\n",
       " ('go', 6280),\n",
       " ('like', 5912),\n",
       " ('good', 5908),\n",
       " ('thank', 5721),\n",
       " ('love', 5438),\n",
       " ('lol', 5173),\n",
       " ('u', 5115),\n",
       " ('know', 4753),\n",
       " ('day', 4238),\n",
       " ('one', 3929),\n",
       " ('work', 3717),\n",
       " ('see', 3550),\n",
       " ('got', 3497),\n",
       " ('time', 3496),\n",
       " ('think', 3360),\n",
       " ('hope', 3242),\n",
       " ('amp', 3144),\n",
       " ('want', 3135),\n",
       " ('well', 3108),\n",
       " ('miss', 3085),\n",
       " ('oh', 2864),\n",
       " ('haha', 2811),\n",
       " ('im', 2808)]"
      ]
     },
     "execution_count": 12,
     "metadata": {},
     "output_type": "execute_result"
    }
   ],
   "source": [
    "# looking at what words we have now after cleaning\n",
    "unique_words_new = set()\n",
    "all_words_new = []\n",
    "for tweet in train_data['text']:\n",
    "    all_words_new.extend(tweet)\n",
    "    for word in tweet:\n",
    "        unique_words_new.add(word)\n",
    "\n",
    "print('Unique words: {}'.format(len(unique_words_new)))\n",
    "print('Total words: {}'.format(len(all_words_new)))\n",
    "Counter(all_words_new).most_common(25)\n",
    "# new common words are good and add meaning to tweets"
   ]
  },
  {
   "cell_type": "code",
   "execution_count": 13,
   "metadata": {},
   "outputs": [
    {
     "data": {
      "image/png": "[encoded data removed]",
      "text/plain": [
       "<Figure size 720x360 with 1 Axes>"
      ]
     },
     "metadata": {
      "needs_background": "light"
     },
     "output_type": "display_data"
    },
    {
     "data": {
      "text/plain": [
       "<module 'matplotlib.pyplot' from '/Users/yangkevi/anaconda3/lib/python3.7/site-packages/matplotlib/pyplot.py'>"
      ]
     },
     "execution_count": 13,
     "metadata": {},
     "output_type": "execute_result"
    }
   ],
   "source": [
    "# plot frequency of new top 25 words\n",
    "plt.figure(figsize=(10,5))\n",
    "plt.title('New Top 25 most common words')\n",
    "nltk.FreqDist(all_words_new).plot(25, cumulative=False)\n",
    "plt"
   ]
  },
  {
   "cell_type": "code",
   "execution_count": 14,
   "metadata": {},
   "outputs": [
    {
     "name": "stderr",
     "output_type": "stream",
     "text": [
      "/Users/yangkevi/anaconda3/lib/python3.7/site-packages/ipykernel_launcher.py:5: SettingWithCopyWarning: \n",
      "A value is trying to be set on a copy of a slice from a DataFrame.\n",
      "Try using .loc[row_indexer,col_indexer] = value instead\n",
      "\n",
      "See the caveats in the documentation: http://pandas.pydata.org/pandas-docs/stable/indexing.html#indexing-view-versus-copy\n",
      "  \"\"\"\n"
     ]
    },
    {
     "data": {
      "text/html": [
       "<div>\n",
       "<style scoped>\n",
       "    .dataframe tbody tr th:only-of-type {\n",
       "        vertical-align: middle;\n",
       "    }\n",
       "\n",
       "    .dataframe tbody tr th {\n",
       "        vertical-align: top;\n",
       "    }\n",
       "\n",
       "    .dataframe thead th {\n",
       "        text-align: right;\n",
       "    }\n",
       "</style>\n",
       "<table border=\"1\" class=\"dataframe\">\n",
       "  <thead>\n",
       "    <tr style=\"text-align: right;\">\n",
       "      <th></th>\n",
       "      <th>label</th>\n",
       "      <th>text</th>\n",
       "    </tr>\n",
       "  </thead>\n",
       "  <tbody>\n",
       "    <tr>\n",
       "      <th>0</th>\n",
       "      <td>0</td>\n",
       "      <td>sad apl friend</td>\n",
       "    </tr>\n",
       "    <tr>\n",
       "      <th>1</th>\n",
       "      <td>0</td>\n",
       "      <td>miss new moon trailer</td>\n",
       "    </tr>\n",
       "    <tr>\n",
       "      <th>2</th>\n",
       "      <td>1</td>\n",
       "      <td>omg alreadi</td>\n",
       "    </tr>\n",
       "    <tr>\n",
       "      <th>3</th>\n",
       "      <td>0</td>\n",
       "      <td>omgaga im sooo im gunna cri dentist sinc supos...</td>\n",
       "    </tr>\n",
       "    <tr>\n",
       "      <th>4</th>\n",
       "      <td>0</td>\n",
       "      <td>think mi bf cheat</td>\n",
       "    </tr>\n",
       "  </tbody>\n",
       "</table>\n",
       "</div>"
      ],
      "text/plain": [
       "   label                                               text\n",
       "0      0                                     sad apl friend\n",
       "1      0                              miss new moon trailer\n",
       "2      1                                        omg alreadi\n",
       "3      0  omgaga im sooo im gunna cri dentist sinc supos...\n",
       "4      0                                  think mi bf cheat"
      ]
     },
     "execution_count": 14,
     "metadata": {},
     "output_type": "execute_result"
    }
   ],
   "source": [
    "# rejoin list of words into single word for training\n",
    "def rejoin_tweet(tweet):\n",
    "    return ' '.join(word for word in tweet)\n",
    "\n",
    "train_data_filtered['text'] = train_data_filtered['text'].apply(rejoin_tweet)\n",
    "train_data_filtered.head()"
   ]
  },
  {
   "cell_type": "code",
   "execution_count": 105,
   "metadata": {},
   "outputs": [
    {
     "data": {
      "text/plain": [
       "37035"
      ]
     },
     "execution_count": 105,
     "metadata": {},
     "output_type": "execute_result"
    }
   ],
   "source": [
    "# Now we can start vectorizing the text to train a classifier\n",
    "# We can start with using one hot encoding since the tweets are very short\n",
    "# Tfidf slightly outperforms one hot encoding\n",
    "\n",
    "#vectorizer = CountVectorizer()\n",
    "vectorizer = TfidfVectorizer()\n",
    "X = vectorizer.fit_transform(train_data_filtered['text'])\n",
    "y = train_data_filtered['label']\n",
    "\n",
    "len(vectorizer.vocabulary_)"
   ]
  },
  {
   "cell_type": "code",
   "execution_count": 102,
   "metadata": {},
   "outputs": [
    {
     "data": {
      "text/plain": [
       "LogisticRegression(C=1.0, class_weight=None, dual=False, fit_intercept=True,\n",
       "          intercept_scaling=1, max_iter=100, multi_class='warn', n_jobs=-1,\n",
       "          penalty='l2', random_state=None, solver='warn', tol=0.0001,\n",
       "          verbose=0, warm_start=False)"
      ]
     },
     "execution_count": 102,
     "metadata": {},
     "output_type": "execute_result"
    }
   ],
   "source": [
    "# Can try simple Logistic Regression for now\n",
    "\n",
    "X_train, X_test, y_train, y_test = train_test_split(X, y, test_size=0.1, random_state=2)\n",
    "\n",
    "lr = LogisticRegression(n_jobs=-1)\n",
    "lr.fit(X_train, y_train)\n",
    "lr"
   ]
  },
  {
   "cell_type": "code",
   "execution_count": 82,
   "metadata": {},
   "outputs": [],
   "source": [
    "# save the model in case for future use\n",
    "\n",
    "pickle.dump(lr, open(\"logistic_regression.p\", 'wb'))"
   ]
  },
  {
   "cell_type": "code",
   "execution_count": 106,
   "metadata": {},
   "outputs": [
    {
     "data": {
      "text/plain": [
       "0.752"
      ]
     },
     "execution_count": 106,
     "metadata": {},
     "output_type": "execute_result"
    }
   ],
   "source": [
    "# now we can evaluate how well our model does\n",
    "\n",
    "accuracy = lr.score(X_test, y_test)\n",
    "accuracy"
   ]
  },
  {
   "cell_type": "code",
   "execution_count": 84,
   "metadata": {},
   "outputs": [
    {
     "name": "stdout",
     "output_type": "stream",
     "text": [
      "confusion matrix: \n"
     ]
    },
    {
     "data": {
      "text/plain": [
       "array([[2805, 1485],\n",
       "       [ 964, 4621]])"
      ]
     },
     "execution_count": 84,
     "metadata": {},
     "output_type": "execute_result"
    }
   ],
   "source": [
    "y_preds = lr.predict(X_test)\n",
    "conf_matrix = confusion_matrix(y_test, y_preds)\n",
    "print('confusion matrix: ')\n",
    "conf_matrix"
   ]
  },
  {
   "cell_type": "code",
   "execution_count": 85,
   "metadata": {},
   "outputs": [
    {
     "name": "stdout",
     "output_type": "stream",
     "text": [
      "              precision    recall  f1-score   support\n",
      "\n",
      "           0       0.74      0.65      0.70      4290\n",
      "           1       0.76      0.83      0.79      5585\n",
      "\n",
      "   micro avg       0.75      0.75      0.75      9875\n",
      "   macro avg       0.75      0.74      0.74      9875\n",
      "weighted avg       0.75      0.75      0.75      9875\n",
      "\n"
     ]
    }
   ],
   "source": [
    "print(classification_report(y_test, y_preds))"
   ]
  },
  {
   "cell_type": "code",
   "execution_count": null,
   "metadata": {},
   "outputs": [],
   "source": []
  }
 ],
 "metadata": {
  "kernelspec": {
   "display_name": "Python 3",
   "language": "python",
   "name": "python3"
  },
  "language_info": {
   "codemirror_mode": {
    "name": "ipython",
    "version": 3
   },
   "file_extension": ".py",
   "mimetype": "text/x-python",
   "name": "python",
   "nbconvert_exporter": "python",
   "pygments_lexer": "ipython3",
   "version": "3.7.3"
  }
 },
 "nbformat": 4,
 "nbformat_minor": 2
}
